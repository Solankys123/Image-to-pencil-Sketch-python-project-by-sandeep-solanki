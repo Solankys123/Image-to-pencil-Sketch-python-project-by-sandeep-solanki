{
 "cells": [
  {
   "cell_type": "code",
   "execution_count": 9,
   "id": "476d8cb5",
   "metadata": {},
   "outputs": [],
   "source": [
    "# image to pencil sketch converter\n",
    "\n",
    "import cv2\n",
    "import numpy as np\n",
    "from tkinter import Tk, filedialog\n",
    "\n",
    "# Create a Tkinter window\n",
    "Tk().withdraw()\n",
    "\n",
    "# Ask the user to select an image file\n",
    "image_path = filedialog.askopenfilename()\n",
    "\n",
    "# Read the image in RGB format\n",
    "image = cv2.imread(image_path)\n",
    "\n",
    "# Resize the image to a medium resolution\n",
    "target_width = 500\n",
    "image_height, image_width, _ = image.shape\n",
    "aspect_ratio = target_width / image_width\n",
    "target_height = int(image_height * aspect_ratio)\n",
    "resized_image = cv2.resize(image, (target_width, target_height))\n",
    "\n",
    "# Convert the image to grayscale\n",
    "gray_image = cv2.cvtColor(resized_image, cv2.COLOR_BGR2GRAY)\n",
    "\n",
    "# Invert the grayscale image\n",
    "inverted_image = 255 - gray_image\n",
    "\n",
    "# Apply a blur to the inverted image to create a smooth effect\n",
    "blurred_image = cv2.GaussianBlur(inverted_image, (21, 21), 0)\n",
    "\n",
    "inverted_blurred = 255 - blurred_image\n",
    "\n",
    "# Create the sketch image by blending grayscale and inverted blurred image\n",
    "sketch_image = cv2.divide(gray_image, inverted_blurred, scale=256.0)\n",
    "\n",
    "# Create a window to display the image and sketch\n",
    "cv2.namedWindow('Image and Sketch', cv2.WINDOW_NORMAL)\n",
    "cv2.resizeWindow('Image and Sketch', 2 * target_width, target_height)\n",
    "\n",
    "# Combine the original image and the sketch horizontally\n",
    "combined = np.hstack((resized_image, cv2.cvtColor(sketch_image, cv2.COLOR_GRAY2BGR)))\n",
    "\n",
    "while True:\n",
    "    # Display the combined image and sketch\n",
    "    cv2.imshow('Image and Sketch', combined)\n",
    "\n",
    "    key = cv2.waitKey(1) & 0xFF\n",
    "    if key == ord('q'):\n",
    "        break\n",
    "\n",
    "cv2.destroyAllWindows()"
   ]
  },
  {
   "cell_type": "code",
   "execution_count": null,
   "id": "c51e0254",
   "metadata": {},
   "outputs": [],
   "source": []
  }
 ],
 "metadata": {
  "kernelspec": {
   "display_name": "Python 3 (ipykernel)",
   "language": "python",
   "name": "python3"
  },
  "language_info": {
   "codemirror_mode": {
    "name": "ipython",
    "version": 3
   },
   "file_extension": ".py",
   "mimetype": "text/x-python",
   "name": "python",
   "nbconvert_exporter": "python",
   "pygments_lexer": "ipython3",
   "version": "3.9.12"
  }
 },
 "nbformat": 4,
 "nbformat_minor": 5
}
